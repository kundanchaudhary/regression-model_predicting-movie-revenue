{
 "cells": [
  {
   "cell_type": "markdown",
   "metadata": {},
   "source": [
    "# Part 1: Data Scraping & Cleaning"
   ]
  },
  {
   "cell_type": "markdown",
   "metadata": {
    "toc": true
   },
   "source": [
    "<h1>Table of Contents<span class=\"tocSkip\"></span></h1>\n",
    "<div class=\"toc\"><ul class=\"toc-item\"><li><span><a href=\"#Problem-Statement\" data-toc-modified-id=\"Problem-Statement-1\"><span class=\"toc-item-num\">1&nbsp;&nbsp;</span>Problem Statement</a></span></li><li><span><a href=\"#Data-Acquisition\" data-toc-modified-id=\"Data-Acquisition-2\"><span class=\"toc-item-num\">2&nbsp;&nbsp;</span>Data Acquisition</a></span></li><li><span><a href=\"#Importing-Libraries\" data-toc-modified-id=\"Importing-Libraries-3\"><span class=\"toc-item-num\">3&nbsp;&nbsp;</span>Importing Libraries</a></span></li><li><span><a href=\"#Data-Scraping-w/-Beautiful-Soup\" data-toc-modified-id=\"Data-Scraping-w/-Beautiful-Soup-4\"><span class=\"toc-item-num\">4&nbsp;&nbsp;</span>Data Scraping w/ Beautiful Soup</a></span></li><li><span><a href=\"#Scraped-Data\" data-toc-modified-id=\"Scraped-Data-5\"><span class=\"toc-item-num\">5&nbsp;&nbsp;</span>Scraped Data</a></span></li><li><span><a href=\"#Data-Cleaning\" data-toc-modified-id=\"Data-Cleaning-6\"><span class=\"toc-item-num\">6&nbsp;&nbsp;</span>Data Cleaning</a></span></li></ul></div>"
   ]
  },
  {
   "cell_type": "markdown",
   "metadata": {},
   "source": [
    "## Problem Statement"
   ]
  },
  {
   "cell_type": "markdown",
   "metadata": {},
   "source": [
    "Film production is a huge financial risk. Currently, blockbuster movies can have budgets in excess of of hundreds of millions of dollars. This risk could be reduced to an extent with the use of quantitative modeling. Since movie scripts are pitched and budgets are set and spent well before any revenue is ever made, we plan to construct a predictive model using features that are generally known before the movie release date such as the movie length, budget, and genre."
   ]
  },
  {
   "cell_type": "markdown",
   "metadata": {},
   "source": [
    "## Data Acquisition"
   ]
  },
  {
   "cell_type": "markdown",
   "metadata": {},
   "source": [
    "We used IMDB (https://www.imdb.com/search/title/?title_type=feature&release_date=1972-01-01,2020-01-10&count=250) to acquire various information related to a given movie released between 1972 to 2020. We used BeautifulSoup to scrape data (movie titles, released year, ratings, metascore, votes by IMDB users, length, genre, and so on) from each page. "
   ]
  },
  {
   "cell_type": "markdown",
   "metadata": {},
   "source": [
    "## Importing Libraries"
   ]
  },
  {
   "cell_type": "code",
   "execution_count": 2,
   "metadata": {
    "ExecuteTime": {
     "end_time": "2020-06-02T15:41:08.246330Z",
     "start_time": "2020-06-02T15:41:03.315815Z"
    }
   },
   "outputs": [],
   "source": [
    "import numpy as np\n",
    "import pandas as pd\n",
    "import requests\n",
    "from requests import get\n",
    "from bs4 import BeautifulSoup\n",
    "from IPython.core.display import display,HTML\n",
    "from time import sleep\n",
    "from random import randint\n",
    "\n",
    "sns.set()\n",
    "%matplotlib inline"
   ]
  },
  {
   "cell_type": "code",
   "execution_count": 2,
   "metadata": {
    "ExecuteTime": {
     "end_time": "2020-01-22T19:30:34.802275Z",
     "start_time": "2020-01-22T19:30:34.796914Z"
    }
   },
   "outputs": [],
   "source": [
    "pd.set_option('precision', 2)"
   ]
  },
  {
   "cell_type": "markdown",
   "metadata": {},
   "source": [
    "## Data Scraping w/ Beautiful Soup"
   ]
  },
  {
   "cell_type": "code",
   "execution_count": 562,
   "metadata": {
    "ExecuteTime": {
     "end_time": "2020-01-20T07:49:33.324014Z",
     "start_time": "2020-01-20T07:06:52.451317Z"
    }
   },
   "outputs": [],
   "source": [
    "names = []\n",
    "years = []\n",
    "imdb_ratings = []\n",
    "metascores = []\n",
    "votes = []\n",
    "lengths = []\n",
    "genres = []\n",
    "ratings = []\n",
    "movie_ids = []\n",
    "\n",
    "pages = [str(i) for i in range(1,177)]\n",
    "headers = {\"Accept-Language\": \"en-US, en;q=0.5\"}\n",
    "\n",
    "for page in pages:\n",
    "    response = get('https://www.imdb.com/search/title/?title_type=feature&release_date=1972-01-01,2019-12-31&count=250&start='+page+'&ref_=adv_nxt', headers = headers)        \n",
    "    \n",
    "    # Adding a pause to the loop\n",
    "    sleep(randint(8,15))\n",
    "    requests += 1\n",
    "\n",
    "    html_soup = BeautifulSoup(response.text, 'html.parser')\n",
    "    movie_list = html_soup.find_all('div', class_ = 'lister-item mode-advanced')\n",
    "\n",
    "    # Extract data from individual movie list\n",
    "    for movie in movie_list:\n",
    "    # If the movie has Metascore, then extract:\n",
    "        if movie.find('div', class_ = 'ratings-metascore') is not None:\n",
    "            \n",
    "    # The name\n",
    "            name = movie.h3.a.text\n",
    "            names.append(name)\n",
    "            \n",
    "    # The year\n",
    "            year = movie.h3.find('span', class_ = 'lister-item-year').text\n",
    "            years.append(year)\n",
    "\n",
    "    # The Genres\n",
    "            genre = movie.find('span', class_ = 'genre').text\n",
    "            genres.append(genre[1:])\n",
    "\n",
    "    # The IMDB rating\n",
    "            imdb = float(movie.strong.text)\n",
    "            imdb_ratings.append(imdb)\n",
    "            \n",
    "    # The Movie Length\n",
    "            length = movie.find('span', class_ = 'runtime').text\n",
    "            lengths.append((length))\n",
    "            \n",
    "    # The Metascores\n",
    "            m_score = movie.find('span', class_ = 'metascore').text\n",
    "            metascores.append(int(m_score))\n",
    "    \n",
    "    # The Ratings\n",
    "            rating = movie.find('span', class_ = 'certificate').text\n",
    "            ratings.append(rating)\n",
    "\n",
    "    # Movie IDs\n",
    "            movie_id = movie.h3.find('a')['href']\n",
    "            movie_ids.append(movie_id[9:-1])\n",
    "            \n",
    "    # The number of votes\n",
    "            vote = movie.find('span', attrs = {'name':'nv'})['data-value']\n",
    "            votes.append(int(vote))\n",
    "\n",
    "# Convert Lists to Dataframe            \n",
    "movie_dataframe = pd.DataFrame({'movie_id':movie_ids,'movie':names,'year':years,'imdb':imdb_ratings,'metascore':metascores,'votes':votes,'lengths':lengths,'ratings':ratings,'genres':genres})\n"
   ]
  },
  {
   "cell_type": "markdown",
   "metadata": {},
   "source": [
    "## Scraped Data"
   ]
  },
  {
   "cell_type": "code",
   "execution_count": 574,
   "metadata": {
    "ExecuteTime": {
     "end_time": "2020-01-20T07:51:35.979597Z",
     "start_time": "2020-01-20T07:51:35.957072Z"
    }
   },
   "outputs": [
    {
     "data": {
      "text/html": [
       "<div>\n",
       "<style scoped>\n",
       "    .dataframe tbody tr th:only-of-type {\n",
       "        vertical-align: middle;\n",
       "    }\n",
       "\n",
       "    .dataframe tbody tr th {\n",
       "        vertical-align: top;\n",
       "    }\n",
       "\n",
       "    .dataframe thead th {\n",
       "        text-align: right;\n",
       "    }\n",
       "</style>\n",
       "<table border=\"1\" class=\"dataframe\">\n",
       "  <thead>\n",
       "    <tr style=\"text-align: right;\">\n",
       "      <th></th>\n",
       "      <th>movie_id</th>\n",
       "      <th>movie</th>\n",
       "      <th>year</th>\n",
       "      <th>imdb</th>\n",
       "      <th>metascore</th>\n",
       "      <th>votes</th>\n",
       "      <th>lengths</th>\n",
       "      <th>ratings</th>\n",
       "      <th>genres</th>\n",
       "    </tr>\n",
       "  </thead>\n",
       "  <tbody>\n",
       "    <tr>\n",
       "      <td>0</td>\n",
       "      <td>8579674</td>\n",
       "      <td>1917</td>\n",
       "      <td>(2019)</td>\n",
       "      <td>8.6</td>\n",
       "      <td>79</td>\n",
       "      <td>64668</td>\n",
       "      <td>119 min</td>\n",
       "      <td>R</td>\n",
       "      <td>Drama, War</td>\n",
       "    </tr>\n",
       "    <tr>\n",
       "      <td>1</td>\n",
       "      <td>2527338</td>\n",
       "      <td>Star Wars: Episode IX - The Rise of Skywalker</td>\n",
       "      <td>(2019)</td>\n",
       "      <td>6.9</td>\n",
       "      <td>54</td>\n",
       "      <td>233251</td>\n",
       "      <td>142 min</td>\n",
       "      <td>PG-13</td>\n",
       "      <td>Action, Adventure, Fantasy</td>\n",
       "    </tr>\n",
       "    <tr>\n",
       "      <td>2</td>\n",
       "      <td>7131622</td>\n",
       "      <td>Once Upon a Time... in Hollywood</td>\n",
       "      <td>(2019)</td>\n",
       "      <td>7.8</td>\n",
       "      <td>83</td>\n",
       "      <td>341435</td>\n",
       "      <td>161 min</td>\n",
       "      <td>R</td>\n",
       "      <td>Comedy, Drama</td>\n",
       "    </tr>\n",
       "    <tr>\n",
       "      <td>3</td>\n",
       "      <td>7286456</td>\n",
       "      <td>Joker</td>\n",
       "      <td>(2019)</td>\n",
       "      <td>8.6</td>\n",
       "      <td>59</td>\n",
       "      <td>618468</td>\n",
       "      <td>122 min</td>\n",
       "      <td>R</td>\n",
       "      <td>Crime, Drama, Thriller</td>\n",
       "    </tr>\n",
       "    <tr>\n",
       "      <td>4</td>\n",
       "      <td>8946378</td>\n",
       "      <td>Knives Out</td>\n",
       "      <td>(2019)</td>\n",
       "      <td>8.1</td>\n",
       "      <td>82</td>\n",
       "      <td>122999</td>\n",
       "      <td>131 min</td>\n",
       "      <td>PG-13</td>\n",
       "      <td>Comedy, Crime, Drama</td>\n",
       "    </tr>\n",
       "    <tr>\n",
       "      <td>...</td>\n",
       "      <td>...</td>\n",
       "      <td>...</td>\n",
       "      <td>...</td>\n",
       "      <td>...</td>\n",
       "      <td>...</td>\n",
       "      <td>...</td>\n",
       "      <td>...</td>\n",
       "      <td>...</td>\n",
       "      <td>...</td>\n",
       "    </tr>\n",
       "    <tr>\n",
       "      <td>42939</td>\n",
       "      <td>2562232</td>\n",
       "      <td>Birdman or (The Unexpected Virtue of Ignorance)</td>\n",
       "      <td>(2014)</td>\n",
       "      <td>7.7</td>\n",
       "      <td>87</td>\n",
       "      <td>541646</td>\n",
       "      <td>119 min</td>\n",
       "      <td>R</td>\n",
       "      <td>Comedy, Drama</td>\n",
       "    </tr>\n",
       "    <tr>\n",
       "      <td>42940</td>\n",
       "      <td>0114709</td>\n",
       "      <td>Toy Story</td>\n",
       "      <td>(1995)</td>\n",
       "      <td>8.3</td>\n",
       "      <td>95</td>\n",
       "      <td>832172</td>\n",
       "      <td>81 min</td>\n",
       "      <td>G</td>\n",
       "      <td>Animation, Adventure, Comedy</td>\n",
       "    </tr>\n",
       "    <tr>\n",
       "      <td>42941</td>\n",
       "      <td>0114814</td>\n",
       "      <td>The Usual Suspects</td>\n",
       "      <td>(1995)</td>\n",
       "      <td>8.5</td>\n",
       "      <td>77</td>\n",
       "      <td>936438</td>\n",
       "      <td>106 min</td>\n",
       "      <td>R</td>\n",
       "      <td>Crime, Mystery, Thriller</td>\n",
       "    </tr>\n",
       "    <tr>\n",
       "      <td>42942</td>\n",
       "      <td>2347569</td>\n",
       "      <td>Frances Ha</td>\n",
       "      <td>(2012)</td>\n",
       "      <td>7.4</td>\n",
       "      <td>82</td>\n",
       "      <td>64696</td>\n",
       "      <td>86 min</td>\n",
       "      <td>R</td>\n",
       "      <td>Comedy, Drama, Romance</td>\n",
       "    </tr>\n",
       "    <tr>\n",
       "      <td>42943</td>\n",
       "      <td>0299658</td>\n",
       "      <td>Chicago</td>\n",
       "      <td>(2002)</td>\n",
       "      <td>7.1</td>\n",
       "      <td>82</td>\n",
       "      <td>206337</td>\n",
       "      <td>113 min</td>\n",
       "      <td>PG-13</td>\n",
       "      <td>Comedy, Crime, Musical</td>\n",
       "    </tr>\n",
       "  </tbody>\n",
       "</table>\n",
       "<p>42944 rows × 9 columns</p>\n",
       "</div>"
      ],
      "text/plain": [
       "      movie_id                                            movie    year  imdb  \\\n",
       "0      8579674                                             1917  (2019)   8.6   \n",
       "1      2527338    Star Wars: Episode IX - The Rise of Skywalker  (2019)   6.9   \n",
       "2      7131622                 Once Upon a Time... in Hollywood  (2019)   7.8   \n",
       "3      7286456                                            Joker  (2019)   8.6   \n",
       "4      8946378                                       Knives Out  (2019)   8.1   \n",
       "...        ...                                              ...     ...   ...   \n",
       "42939  2562232  Birdman or (The Unexpected Virtue of Ignorance)  (2014)   7.7   \n",
       "42940  0114709                                        Toy Story  (1995)   8.3   \n",
       "42941  0114814                               The Usual Suspects  (1995)   8.5   \n",
       "42942  2347569                                       Frances Ha  (2012)   7.4   \n",
       "42943  0299658                                          Chicago  (2002)   7.1   \n",
       "\n",
       "       metascore   votes  lengths ratings  \\\n",
       "0             79   64668  119 min       R   \n",
       "1             54  233251  142 min   PG-13   \n",
       "2             83  341435  161 min       R   \n",
       "3             59  618468  122 min       R   \n",
       "4             82  122999  131 min   PG-13   \n",
       "...          ...     ...      ...     ...   \n",
       "42939         87  541646  119 min       R   \n",
       "42940         95  832172   81 min       G   \n",
       "42941         77  936438  106 min       R   \n",
       "42942         82   64696   86 min       R   \n",
       "42943         82  206337  113 min   PG-13   \n",
       "\n",
       "                                         genres  \n",
       "0                        Drama, War              \n",
       "1        Action, Adventure, Fantasy              \n",
       "2                     Comedy, Drama              \n",
       "3            Crime, Drama, Thriller              \n",
       "4              Comedy, Crime, Drama              \n",
       "...                                         ...  \n",
       "42939                 Comedy, Drama              \n",
       "42940  Animation, Adventure, Comedy              \n",
       "42941      Crime, Mystery, Thriller              \n",
       "42942        Comedy, Drama, Romance              \n",
       "42943        Comedy, Crime, Musical              \n",
       "\n",
       "[42944 rows x 9 columns]"
      ]
     },
     "execution_count": 574,
     "metadata": {},
     "output_type": "execute_result"
    }
   ],
   "source": [
    "movie_dataframe"
   ]
  },
  {
   "cell_type": "markdown",
   "metadata": {},
   "source": [
    "__Saving Dataframe as CSV File:__"
   ]
  },
  {
   "cell_type": "code",
   "execution_count": 576,
   "metadata": {
    "ExecuteTime": {
     "end_time": "2020-01-20T07:52:53.356328Z",
     "start_time": "2020-01-20T07:52:52.912267Z"
    }
   },
   "outputs": [],
   "source": [
    "movie_dataframe.to_csv('../movie_dataframe.csv')"
   ]
  },
  {
   "cell_type": "markdown",
   "metadata": {},
   "source": [
    "__Reading Saved CSV File:__"
   ]
  },
  {
   "cell_type": "code",
   "execution_count": 4,
   "metadata": {
    "ExecuteTime": {
     "end_time": "2020-01-20T22:14:41.386800Z",
     "start_time": "2020-01-20T22:14:41.300847Z"
    },
    "scrolled": true
   },
   "outputs": [
    {
     "data": {
      "text/html": [
       "<div>\n",
       "<style scoped>\n",
       "    .dataframe tbody tr th:only-of-type {\n",
       "        vertical-align: middle;\n",
       "    }\n",
       "\n",
       "    .dataframe tbody tr th {\n",
       "        vertical-align: top;\n",
       "    }\n",
       "\n",
       "    .dataframe thead th {\n",
       "        text-align: right;\n",
       "    }\n",
       "</style>\n",
       "<table border=\"1\" class=\"dataframe\">\n",
       "  <thead>\n",
       "    <tr style=\"text-align: right;\">\n",
       "      <th></th>\n",
       "      <th>Unnamed: 0</th>\n",
       "      <th>movie_id</th>\n",
       "      <th>movie</th>\n",
       "      <th>year</th>\n",
       "      <th>imdb</th>\n",
       "      <th>metascore</th>\n",
       "      <th>votes</th>\n",
       "      <th>lengths</th>\n",
       "      <th>ratings</th>\n",
       "      <th>genres</th>\n",
       "    </tr>\n",
       "  </thead>\n",
       "  <tbody>\n",
       "    <tr>\n",
       "      <td>0</td>\n",
       "      <td>0</td>\n",
       "      <td>8579674</td>\n",
       "      <td>1917</td>\n",
       "      <td>(2019)</td>\n",
       "      <td>8.6</td>\n",
       "      <td>79</td>\n",
       "      <td>64668</td>\n",
       "      <td>119 min</td>\n",
       "      <td>R</td>\n",
       "      <td>Drama, War</td>\n",
       "    </tr>\n",
       "    <tr>\n",
       "      <td>1</td>\n",
       "      <td>1</td>\n",
       "      <td>2527338</td>\n",
       "      <td>Star Wars: Episode IX - The Rise of Skywalker</td>\n",
       "      <td>(2019)</td>\n",
       "      <td>6.9</td>\n",
       "      <td>54</td>\n",
       "      <td>233251</td>\n",
       "      <td>142 min</td>\n",
       "      <td>PG-13</td>\n",
       "      <td>Action, Adventure, Fantasy</td>\n",
       "    </tr>\n",
       "    <tr>\n",
       "      <td>2</td>\n",
       "      <td>2</td>\n",
       "      <td>7131622</td>\n",
       "      <td>Once Upon a Time... in Hollywood</td>\n",
       "      <td>(2019)</td>\n",
       "      <td>7.8</td>\n",
       "      <td>83</td>\n",
       "      <td>341435</td>\n",
       "      <td>161 min</td>\n",
       "      <td>R</td>\n",
       "      <td>Comedy, Drama</td>\n",
       "    </tr>\n",
       "    <tr>\n",
       "      <td>3</td>\n",
       "      <td>3</td>\n",
       "      <td>7286456</td>\n",
       "      <td>Joker</td>\n",
       "      <td>(2019)</td>\n",
       "      <td>8.6</td>\n",
       "      <td>59</td>\n",
       "      <td>618468</td>\n",
       "      <td>122 min</td>\n",
       "      <td>R</td>\n",
       "      <td>Crime, Drama, Thriller</td>\n",
       "    </tr>\n",
       "    <tr>\n",
       "      <td>4</td>\n",
       "      <td>4</td>\n",
       "      <td>8946378</td>\n",
       "      <td>Knives Out</td>\n",
       "      <td>(2019)</td>\n",
       "      <td>8.1</td>\n",
       "      <td>82</td>\n",
       "      <td>122999</td>\n",
       "      <td>131 min</td>\n",
       "      <td>PG-13</td>\n",
       "      <td>Comedy, Crime, Drama</td>\n",
       "    </tr>\n",
       "  </tbody>\n",
       "</table>\n",
       "</div>"
      ],
      "text/plain": [
       "   Unnamed: 0  movie_id                                          movie  \\\n",
       "0           0   8579674                                           1917   \n",
       "1           1   2527338  Star Wars: Episode IX - The Rise of Skywalker   \n",
       "2           2   7131622               Once Upon a Time... in Hollywood   \n",
       "3           3   7286456                                          Joker   \n",
       "4           4   8946378                                     Knives Out   \n",
       "\n",
       "     year  imdb  metascore   votes  lengths ratings  \\\n",
       "0  (2019)   8.6         79   64668  119 min       R   \n",
       "1  (2019)   6.9         54  233251  142 min   PG-13   \n",
       "2  (2019)   7.8         83  341435  161 min       R   \n",
       "3  (2019)   8.6         59  618468  122 min       R   \n",
       "4  (2019)   8.1         82  122999  131 min   PG-13   \n",
       "\n",
       "                                   genres  \n",
       "0                  Drama, War              \n",
       "1  Action, Adventure, Fantasy              \n",
       "2               Comedy, Drama              \n",
       "3      Crime, Drama, Thriller              \n",
       "4        Comedy, Crime, Drama              "
      ]
     },
     "execution_count": 4,
     "metadata": {},
     "output_type": "execute_result"
    }
   ],
   "source": [
    "df = pd.read_csv('../movie_dataframe.csv')\n",
    "df.head()"
   ]
  },
  {
   "cell_type": "markdown",
   "metadata": {},
   "source": [
    "__Scraping Budget, Country, Language, Gross From The IMDB Website, One Page At A Time:__"
   ]
  },
  {
   "cell_type": "code",
   "execution_count": null,
   "metadata": {
    "ExecuteTime": {
     "start_time": "2020-01-21T00:33:12.161Z"
    }
   },
   "outputs": [
    {
     "name": "stdout",
     "output_type": "stream",
     "text": [
      "Counter: 1\n",
      "UK\n",
      "USA\n",
      "['UK', 'USA']\n",
      "English\n",
      "French\n",
      "German\n",
      "['English', 'French', 'German']\n",
      "$100,000,000\n",
      " $143,336,984\n",
      "Counter: 2\n",
      "USA\n",
      "['USA']\n",
      "English\n",
      "['English']\n",
      "$200,000,000\n",
      " $1,028,754,801\n",
      "Counter: 3\n",
      "USA\n",
      "UK\n",
      "China\n",
      "['USA', 'UK', 'China']\n",
      "English\n",
      "Italian\n",
      "Spanish\n",
      "['English', 'Italian', 'Spanish']\n",
      "$90,000,000\n",
      " $373,058,543\n",
      "Counter: 4\n",
      "Canada\n",
      "USA\n",
      "['Canada', 'USA']\n",
      "English\n",
      "['English']\n",
      "$55,000,000\n",
      " $1,069,147,201\n",
      "Counter: 5\n",
      "USA\n",
      "['USA']\n",
      "English\n",
      "Spanish\n",
      "['English', 'Spanish']\n",
      "$40,000,000\n",
      " $277,992,387\n",
      "Counter: 6\n",
      "USA\n",
      "['USA']\n",
      "English\n",
      "French\n",
      "['English', 'French']\n",
      "$40,000,000\n",
      " $130,991,052\n",
      "Counter: 7\n",
      "South Korea\n",
      "['South Korea']\n",
      "Korean\n",
      "English\n",
      "['Korean', 'English']\n",
      " $139,600,731\n",
      "Counter: 8\n",
      "UK\n",
      "USA\n",
      "['UK', 'USA']\n",
      "English\n",
      "['English']\n",
      "$95,000,000\n",
      " $60,027,835\n",
      "Counter: 9\n",
      "USA\n",
      "['USA']\n",
      "English\n",
      "['English']\n",
      " $44,928,599\n",
      "Counter: 10\n",
      "USA\n",
      "['USA']\n",
      "English\n",
      "Italian\n",
      "Latin\n",
      "Spanish\n",
      "['English', 'Italian', 'Latin', 'Spanish']\n",
      "$159,000,000\n",
      " $961,224\n",
      "Counter: 11\n",
      "UK\n",
      "USA\n",
      "['UK', 'USA']\n",
      "English\n",
      "['English']\n",
      "$18,600,000\n",
      " $323,382\n",
      "Counter: 12\n",
      "Czech Republic\n",
      "New Zealand\n",
      "USA\n",
      "['Czech Republic', 'New Zealand', 'USA']\n",
      "English\n",
      "German\n",
      "['English', 'German']\n",
      " $43,934,072\n",
      "Counter: 13\n"
     ]
    },
    {
     "name": "stderr",
     "output_type": "stream",
     "text": [
      "Exception ignored in: <function WeakValueDictionary.__init__.<locals>.remove at 0x1c21e55b90>\n",
      "Traceback (most recent call last):\n",
      "  File \"/opt/anaconda3/lib/python3.7/weakref.py\", line 109, in remove\n",
      "    def remove(wr, selfref=ref(self), _atomic_removal=_remove_dead_weakref):\n",
      "KeyboardInterrupt\n"
     ]
    }
   ],
   "source": [
    "budget_list = []\n",
    "country_list = []\n",
    "language_list = []\n",
    "gross_list = []\n",
    "counter = 0\n",
    "\n",
    "for title in df['movie_id'].iloc[15000:20000]: \n",
    "    counter = counter+1\n",
    "    print (\"Counter:\", counter)\n",
    "    print (\"% Completed:\", (counter/(len(df['movie_id'].iloc[15000:20000])))*100)\n",
    "\n",
    "    response = get('https://www.imdb.com/title/tt'+str(title)+'/?ref_=adv_li_tt')\n",
    "    # Adding a pause to the loop\n",
    "    sleep(randint(0,2))\n",
    "    html_soup = BeautifulSoup(response.text, 'html.parser')\n",
    "    text_box=html_soup.find_all('div',class_=\"txt-block\")\n",
    "    \n",
    "    if (html_soup.find(text=\"Budget:\") is None):\n",
    "        budget_list.append('NA')\n",
    "    \n",
    "    if (html_soup.find(text=\"Country:\") is None):\n",
    "        country_list.append('NA')\n",
    "        \n",
    "    if (html_soup.find(text=\"Language:\") is None):\n",
    "        language_list.append('NA')\n",
    "    \n",
    "    if (html_soup.find(text=\"Cumulative Worldwide Gross:\") is None):\n",
    "        gross_list.append('NA')\n",
    "    for c in text_box:\n",
    "        try:\n",
    "            heading=c.find('h4').getText()\n",
    "            if heading==\"Country:\":\n",
    "                c1=c.find_all('a')\n",
    "                list1=[]\n",
    "                if len(c1)>0:\n",
    "                    for i in range(len(c1)):\n",
    "                        print (c1[i].text)\n",
    "                        list1.append(c1[i].text)\n",
    "                    print (list1)\n",
    "                    country_list.append(list1)\n",
    "                if len(c1)==0:\n",
    "                    list1.append('NA')\n",
    "                    print (list1)\n",
    "                    country_list.append(list1)\n",
    "            if heading==\"Language:\":\n",
    "                c2=c.find_all('a')\n",
    "                list2=[]\n",
    "                if len(c2)>0:\n",
    "                    for i in range(len(c2)):\n",
    "                        print (c2[i].text)\n",
    "                        list2.append(c2[i].text)\n",
    "                    print (list2)\n",
    "                    language_list.append(list2)\n",
    "                if len(c2)==0:\n",
    "                    list2.append('NA')\n",
    "                    print (list2)\n",
    "                    language_list.append(list2)  \n",
    "            if heading==\"Budget:\":\n",
    "                c3=c.find('h4').next_sibling\n",
    "                if len(c3)>0:\n",
    "                    c4=c3.rstrip()\n",
    "                    print (c4)\n",
    "                    budget_list.append(c4)\n",
    "                if len(c3)==0:\n",
    "                    budget_list.append('NA')  \n",
    "            if heading==\"Cumulative Worldwide Gross:\":\n",
    "                c5=c.find('h4').next_sibling\n",
    "                if len(c5)>0:\n",
    "                    c6=c5.rstrip()\n",
    "                    print (c6)\n",
    "                    gross_list.append(c5)\n",
    "                else:\n",
    "                    gross_list.append('NA')             \n",
    "        except:\n",
    "            continue"
   ]
  },
  {
   "cell_type": "markdown",
   "metadata": {},
   "source": [
    "## Data Cleaning"
   ]
  },
  {
   "cell_type": "markdown",
   "metadata": {},
   "source": [
    "Furthermore, we clean the dataframe such that we can perform analysis/modeling with it. Some of the cleaning steps consist of the following:\n",
    "1. Reordering the columns\n",
    "2. Cleaning the year column and converting the values to integers"
   ]
  },
  {
   "cell_type": "code",
   "execution_count": 4,
   "metadata": {
    "ExecuteTime": {
     "end_time": "2020-06-02T15:41:58.225641Z",
     "start_time": "2020-06-02T15:41:58.209253Z"
    }
   },
   "outputs": [],
   "source": [
    "movie_df= pd.read_csv('../movie_dataframe2000movies.csv')"
   ]
  },
  {
   "cell_type": "code",
   "execution_count": 5,
   "metadata": {
    "ExecuteTime": {
     "end_time": "2020-06-02T15:42:04.145384Z",
     "start_time": "2020-06-02T15:42:04.141492Z"
    }
   },
   "outputs": [],
   "source": [
    "movie_df=movie_df.drop(columns='budget_list')"
   ]
  },
  {
   "cell_type": "code",
   "execution_count": 7,
   "metadata": {
    "ExecuteTime": {
     "end_time": "2020-06-02T15:42:12.094346Z",
     "start_time": "2020-06-02T15:42:12.079202Z"
    }
   },
   "outputs": [
    {
     "data": {
      "text/html": [
       "<div>\n",
       "<style scoped>\n",
       "    .dataframe tbody tr th:only-of-type {\n",
       "        vertical-align: middle;\n",
       "    }\n",
       "\n",
       "    .dataframe tbody tr th {\n",
       "        vertical-align: top;\n",
       "    }\n",
       "\n",
       "    .dataframe thead th {\n",
       "        text-align: right;\n",
       "    }\n",
       "</style>\n",
       "<table border=\"1\" class=\"dataframe\">\n",
       "  <thead>\n",
       "    <tr style=\"text-align: right;\">\n",
       "      <th></th>\n",
       "      <th>Unnamed: 0</th>\n",
       "      <th>Unnamed: 0.1</th>\n",
       "      <th>movie_id</th>\n",
       "      <th>movie</th>\n",
       "      <th>year</th>\n",
       "      <th>imdb</th>\n",
       "      <th>metascore</th>\n",
       "      <th>votes</th>\n",
       "      <th>lengths</th>\n",
       "      <th>ratings</th>\n",
       "      <th>genres</th>\n",
       "      <th>budget</th>\n",
       "      <th>language</th>\n",
       "      <th>country</th>\n",
       "      <th>cumulative_worldwide_gross</th>\n",
       "    </tr>\n",
       "  </thead>\n",
       "  <tbody>\n",
       "    <tr>\n",
       "      <th>0</th>\n",
       "      <td>0</td>\n",
       "      <td>0</td>\n",
       "      <td>8579674</td>\n",
       "      <td>1917</td>\n",
       "      <td>(2019)</td>\n",
       "      <td>8.6</td>\n",
       "      <td>79</td>\n",
       "      <td>64668</td>\n",
       "      <td>119 min</td>\n",
       "      <td>R</td>\n",
       "      <td>Drama, War</td>\n",
       "      <td>$100,000,000</td>\n",
       "      <td>['English', 'French', 'German']</td>\n",
       "      <td>['UK', 'USA']</td>\n",
       "      <td>$143,336,984</td>\n",
       "    </tr>\n",
       "    <tr>\n",
       "      <th>1</th>\n",
       "      <td>1</td>\n",
       "      <td>1</td>\n",
       "      <td>2527338</td>\n",
       "      <td>Star Wars: Episode IX - The Rise of Skywalker</td>\n",
       "      <td>(2019)</td>\n",
       "      <td>6.9</td>\n",
       "      <td>54</td>\n",
       "      <td>233251</td>\n",
       "      <td>142 min</td>\n",
       "      <td>PG-13</td>\n",
       "      <td>Action, Adventure, Fantasy</td>\n",
       "      <td>$200,000,000</td>\n",
       "      <td>['English']</td>\n",
       "      <td>['USA']</td>\n",
       "      <td>$1,028,754,801</td>\n",
       "    </tr>\n",
       "    <tr>\n",
       "      <th>2</th>\n",
       "      <td>2</td>\n",
       "      <td>2</td>\n",
       "      <td>7131622</td>\n",
       "      <td>Once Upon a Time... in Hollywood</td>\n",
       "      <td>(2019)</td>\n",
       "      <td>7.8</td>\n",
       "      <td>83</td>\n",
       "      <td>341435</td>\n",
       "      <td>161 min</td>\n",
       "      <td>R</td>\n",
       "      <td>Comedy, Drama</td>\n",
       "      <td>$90,000,000</td>\n",
       "      <td>['English', 'Italian', 'Spanish']</td>\n",
       "      <td>['USA', 'UK', 'China']</td>\n",
       "      <td>$373,058,543</td>\n",
       "    </tr>\n",
       "    <tr>\n",
       "      <th>3</th>\n",
       "      <td>3</td>\n",
       "      <td>3</td>\n",
       "      <td>7286456</td>\n",
       "      <td>Joker</td>\n",
       "      <td>(2019)</td>\n",
       "      <td>8.6</td>\n",
       "      <td>59</td>\n",
       "      <td>618468</td>\n",
       "      <td>122 min</td>\n",
       "      <td>R</td>\n",
       "      <td>Crime, Drama, Thriller</td>\n",
       "      <td>$55,000,000</td>\n",
       "      <td>['English']</td>\n",
       "      <td>['Canada', 'USA']</td>\n",
       "      <td>$1,069,147,201</td>\n",
       "    </tr>\n",
       "    <tr>\n",
       "      <th>4</th>\n",
       "      <td>4</td>\n",
       "      <td>4</td>\n",
       "      <td>8946378</td>\n",
       "      <td>Knives Out</td>\n",
       "      <td>(2019)</td>\n",
       "      <td>8.1</td>\n",
       "      <td>82</td>\n",
       "      <td>122999</td>\n",
       "      <td>131 min</td>\n",
       "      <td>PG-13</td>\n",
       "      <td>Comedy, Crime, Drama</td>\n",
       "      <td>$40,000,000</td>\n",
       "      <td>['English', 'Spanish']</td>\n",
       "      <td>['USA']</td>\n",
       "      <td>$277,992,387</td>\n",
       "    </tr>\n",
       "  </tbody>\n",
       "</table>\n",
       "</div>"
      ],
      "text/plain": [
       "   Unnamed: 0  Unnamed: 0.1  movie_id  \\\n",
       "0           0             0   8579674   \n",
       "1           1             1   2527338   \n",
       "2           2             2   7131622   \n",
       "3           3             3   7286456   \n",
       "4           4             4   8946378   \n",
       "\n",
       "                                           movie    year  imdb  metascore  \\\n",
       "0                                           1917  (2019)   8.6         79   \n",
       "1  Star Wars: Episode IX - The Rise of Skywalker  (2019)   6.9         54   \n",
       "2               Once Upon a Time... in Hollywood  (2019)   7.8         83   \n",
       "3                                          Joker  (2019)   8.6         59   \n",
       "4                                     Knives Out  (2019)   8.1         82   \n",
       "\n",
       "    votes  lengths ratings                                  genres  \\\n",
       "0   64668  119 min       R                  Drama, War               \n",
       "1  233251  142 min   PG-13  Action, Adventure, Fantasy               \n",
       "2  341435  161 min       R               Comedy, Drama               \n",
       "3  618468  122 min       R      Crime, Drama, Thriller               \n",
       "4  122999  131 min   PG-13        Comedy, Crime, Drama               \n",
       "\n",
       "         budget                           language                 country  \\\n",
       "0  $100,000,000    ['English', 'French', 'German']           ['UK', 'USA']   \n",
       "1  $200,000,000                        ['English']                 ['USA']   \n",
       "2   $90,000,000  ['English', 'Italian', 'Spanish']  ['USA', 'UK', 'China']   \n",
       "3   $55,000,000                        ['English']       ['Canada', 'USA']   \n",
       "4   $40,000,000             ['English', 'Spanish']                 ['USA']   \n",
       "\n",
       "  cumulative_worldwide_gross   \n",
       "0        $143,336,984          \n",
       "1      $1,028,754,801          \n",
       "2        $373,058,543          \n",
       "3      $1,069,147,201          \n",
       "4        $277,992,387          "
      ]
     },
     "execution_count": 7,
     "metadata": {},
     "output_type": "execute_result"
    }
   ],
   "source": [
    "movie_df.head()"
   ]
  },
  {
   "cell_type": "code",
   "execution_count": 8,
   "metadata": {
    "ExecuteTime": {
     "end_time": "2020-06-02T15:43:01.088122Z",
     "start_time": "2020-06-02T15:43:01.073432Z"
    }
   },
   "outputs": [],
   "source": [
    "movie_df1= pd.read_csv('../movie_dataframe2000-5000movies.csv')"
   ]
  },
  {
   "cell_type": "code",
   "execution_count": 20,
   "metadata": {
    "ExecuteTime": {
     "end_time": "2020-01-22T18:25:03.540553Z",
     "start_time": "2020-01-22T18:25:03.511692Z"
    }
   },
   "outputs": [],
   "source": [
    "movie_df2= pd.read_csv('../movie_dataframe5000-10000movies.csv')"
   ]
  },
  {
   "cell_type": "code",
   "execution_count": 10,
   "metadata": {
    "ExecuteTime": {
     "end_time": "2020-06-02T15:43:45.204417Z",
     "start_time": "2020-06-02T15:43:45.195132Z"
    }
   },
   "outputs": [],
   "source": [
    "movie_df3= pd.read_csv('../movie_dataframe10000-11000movies.csv')"
   ]
  },
  {
   "cell_type": "code",
   "execution_count": 11,
   "metadata": {
    "ExecuteTime": {
     "end_time": "2020-06-02T15:44:01.113867Z",
     "start_time": "2020-06-02T15:44:01.099396Z"
    }
   },
   "outputs": [],
   "source": [
    "movie_df4= pd.read_csv('../movie_dataframe11000-15000movies.csv')"
   ]
  },
  {
   "cell_type": "code",
   "execution_count": 12,
   "metadata": {
    "ExecuteTime": {
     "end_time": "2020-06-02T15:44:13.957321Z",
     "start_time": "2020-06-02T15:44:13.944119Z"
    }
   },
   "outputs": [],
   "source": [
    "movie_df5= pd.read_csv('../movie_dataframe15000-18646movies.csv')"
   ]
  },
  {
   "cell_type": "code",
   "execution_count": 13,
   "metadata": {
    "ExecuteTime": {
     "end_time": "2020-06-02T15:44:27.242332Z",
     "start_time": "2020-06-02T15:44:27.231208Z"
    }
   },
   "outputs": [],
   "source": [
    "movie_df6= pd.read_csv('../movie_dataframe18647-21000movies.csv')"
   ]
  },
  {
   "cell_type": "code",
   "execution_count": 14,
   "metadata": {
    "ExecuteTime": {
     "end_time": "2020-06-02T15:44:40.869551Z",
     "start_time": "2020-06-02T15:44:40.856828Z"
    }
   },
   "outputs": [],
   "source": [
    "movie_df7 = pd.read_csv('../movie_dataframe21000-24000movies.csv')"
   ]
  },
  {
   "cell_type": "code",
   "execution_count": 15,
   "metadata": {
    "ExecuteTime": {
     "end_time": "2020-06-02T15:44:49.450703Z",
     "start_time": "2020-06-02T15:44:49.437394Z"
    }
   },
   "outputs": [],
   "source": [
    "movie_df8 = pd.read_csv('../movie_dataframe24000-27000movies.csv')"
   ]
  },
  {
   "cell_type": "code",
   "execution_count": 16,
   "metadata": {
    "ExecuteTime": {
     "end_time": "2020-06-02T15:44:58.439779Z",
     "start_time": "2020-06-02T15:44:58.415906Z"
    }
   },
   "outputs": [],
   "source": [
    "movie_df9 = pd.read_csv('../movie_dataframe27000-37000movies.csv')"
   ]
  },
  {
   "cell_type": "code",
   "execution_count": 17,
   "metadata": {
    "ExecuteTime": {
     "end_time": "2020-06-02T15:45:06.734974Z",
     "start_time": "2020-06-02T15:45:06.726043Z"
    }
   },
   "outputs": [],
   "source": [
    "movie_df10 = pd.read_csv('../movie_dataframe37000-40000movies.csv')"
   ]
  },
  {
   "cell_type": "markdown",
   "metadata": {},
   "source": [
    "__Concatenating All (40000) Of The Scraped Movies:__"
   ]
  },
  {
   "cell_type": "code",
   "execution_count": 28,
   "metadata": {
    "ExecuteTime": {
     "end_time": "2020-01-22T18:25:56.896891Z",
     "start_time": "2020-01-22T18:25:56.893024Z"
    }
   },
   "outputs": [],
   "source": [
    "dataframes = [movie_df,movie_df1,movie_df2,movie_df3,movie_df4,movie_df5,movie_df6,movie_df7,movie_df8,movie_df9,movie_df10]"
   ]
  },
  {
   "cell_type": "code",
   "execution_count": 29,
   "metadata": {
    "ExecuteTime": {
     "end_time": "2020-01-22T18:25:59.554063Z",
     "start_time": "2020-01-22T18:25:59.526886Z"
    }
   },
   "outputs": [],
   "source": [
    "movie_dataframes = pd.concat(dataframes)"
   ]
  },
  {
   "cell_type": "code",
   "execution_count": 31,
   "metadata": {
    "ExecuteTime": {
     "end_time": "2020-01-22T18:31:13.595635Z",
     "start_time": "2020-01-22T18:31:12.915995Z"
    }
   },
   "outputs": [],
   "source": [
    "movie_dataframes.to_csv('../movie_dataframe_completemovies.csv')"
   ]
  },
  {
   "cell_type": "code",
   "execution_count": 18,
   "metadata": {
    "ExecuteTime": {
     "end_time": "2020-06-02T15:45:47.033696Z",
     "start_time": "2020-06-02T15:45:46.942581Z"
    }
   },
   "outputs": [],
   "source": [
    "movie_dataframes= pd.read_csv('../movie_dataframe_completemovies.csv')"
   ]
  },
  {
   "cell_type": "code",
   "execution_count": 19,
   "metadata": {
    "ExecuteTime": {
     "end_time": "2020-06-02T15:45:52.164316Z",
     "start_time": "2020-06-02T15:45:52.148956Z"
    }
   },
   "outputs": [
    {
     "data": {
      "text/html": [
       "<div>\n",
       "<style scoped>\n",
       "    .dataframe tbody tr th:only-of-type {\n",
       "        vertical-align: middle;\n",
       "    }\n",
       "\n",
       "    .dataframe tbody tr th {\n",
       "        vertical-align: top;\n",
       "    }\n",
       "\n",
       "    .dataframe thead th {\n",
       "        text-align: right;\n",
       "    }\n",
       "</style>\n",
       "<table border=\"1\" class=\"dataframe\">\n",
       "  <thead>\n",
       "    <tr style=\"text-align: right;\">\n",
       "      <th></th>\n",
       "      <th>Unnamed: 0</th>\n",
       "      <th>Unnamed: 0.1</th>\n",
       "      <th>Unnamed: 0.1.1</th>\n",
       "      <th>movie_id</th>\n",
       "      <th>movie</th>\n",
       "      <th>year</th>\n",
       "      <th>imdb</th>\n",
       "      <th>metascore</th>\n",
       "      <th>votes</th>\n",
       "      <th>lengths</th>\n",
       "      <th>ratings</th>\n",
       "      <th>genres</th>\n",
       "      <th>budget</th>\n",
       "      <th>language</th>\n",
       "      <th>country</th>\n",
       "      <th>cumulative_worldwide_gross</th>\n",
       "    </tr>\n",
       "  </thead>\n",
       "  <tbody>\n",
       "    <tr>\n",
       "      <th>0</th>\n",
       "      <td>0</td>\n",
       "      <td>0</td>\n",
       "      <td>0</td>\n",
       "      <td>8579674</td>\n",
       "      <td>1917</td>\n",
       "      <td>(2019)</td>\n",
       "      <td>8.6</td>\n",
       "      <td>79</td>\n",
       "      <td>64668</td>\n",
       "      <td>119 min</td>\n",
       "      <td>R</td>\n",
       "      <td>Drama, War</td>\n",
       "      <td>$100,000,000</td>\n",
       "      <td>['English', 'French', 'German']</td>\n",
       "      <td>['UK', 'USA']</td>\n",
       "      <td>$143,336,984</td>\n",
       "    </tr>\n",
       "    <tr>\n",
       "      <th>1</th>\n",
       "      <td>1</td>\n",
       "      <td>1</td>\n",
       "      <td>1</td>\n",
       "      <td>2527338</td>\n",
       "      <td>Star Wars: Episode IX - The Rise of Skywalker</td>\n",
       "      <td>(2019)</td>\n",
       "      <td>6.9</td>\n",
       "      <td>54</td>\n",
       "      <td>233251</td>\n",
       "      <td>142 min</td>\n",
       "      <td>PG-13</td>\n",
       "      <td>Action, Adventure, Fantasy</td>\n",
       "      <td>$200,000,000</td>\n",
       "      <td>['English']</td>\n",
       "      <td>['USA']</td>\n",
       "      <td>$1,028,754,801</td>\n",
       "    </tr>\n",
       "    <tr>\n",
       "      <th>2</th>\n",
       "      <td>2</td>\n",
       "      <td>2</td>\n",
       "      <td>2</td>\n",
       "      <td>7131622</td>\n",
       "      <td>Once Upon a Time... in Hollywood</td>\n",
       "      <td>(2019)</td>\n",
       "      <td>7.8</td>\n",
       "      <td>83</td>\n",
       "      <td>341435</td>\n",
       "      <td>161 min</td>\n",
       "      <td>R</td>\n",
       "      <td>Comedy, Drama</td>\n",
       "      <td>$90,000,000</td>\n",
       "      <td>['English', 'Italian', 'Spanish']</td>\n",
       "      <td>['USA', 'UK', 'China']</td>\n",
       "      <td>$373,058,543</td>\n",
       "    </tr>\n",
       "    <tr>\n",
       "      <th>3</th>\n",
       "      <td>3</td>\n",
       "      <td>3</td>\n",
       "      <td>3</td>\n",
       "      <td>7286456</td>\n",
       "      <td>Joker</td>\n",
       "      <td>(2019)</td>\n",
       "      <td>8.6</td>\n",
       "      <td>59</td>\n",
       "      <td>618468</td>\n",
       "      <td>122 min</td>\n",
       "      <td>R</td>\n",
       "      <td>Crime, Drama, Thriller</td>\n",
       "      <td>$55,000,000</td>\n",
       "      <td>['English']</td>\n",
       "      <td>['Canada', 'USA']</td>\n",
       "      <td>$1,069,147,201</td>\n",
       "    </tr>\n",
       "    <tr>\n",
       "      <th>4</th>\n",
       "      <td>4</td>\n",
       "      <td>4</td>\n",
       "      <td>4</td>\n",
       "      <td>8946378</td>\n",
       "      <td>Knives Out</td>\n",
       "      <td>(2019)</td>\n",
       "      <td>8.1</td>\n",
       "      <td>82</td>\n",
       "      <td>122999</td>\n",
       "      <td>131 min</td>\n",
       "      <td>PG-13</td>\n",
       "      <td>Comedy, Crime, Drama</td>\n",
       "      <td>$40,000,000</td>\n",
       "      <td>['English', 'Spanish']</td>\n",
       "      <td>['USA']</td>\n",
       "      <td>$277,992,387</td>\n",
       "    </tr>\n",
       "  </tbody>\n",
       "</table>\n",
       "</div>"
      ],
      "text/plain": [
       "   Unnamed: 0  Unnamed: 0.1  Unnamed: 0.1.1  movie_id  \\\n",
       "0           0             0               0   8579674   \n",
       "1           1             1               1   2527338   \n",
       "2           2             2               2   7131622   \n",
       "3           3             3               3   7286456   \n",
       "4           4             4               4   8946378   \n",
       "\n",
       "                                           movie    year  imdb  metascore  \\\n",
       "0                                           1917  (2019)   8.6         79   \n",
       "1  Star Wars: Episode IX - The Rise of Skywalker  (2019)   6.9         54   \n",
       "2               Once Upon a Time... in Hollywood  (2019)   7.8         83   \n",
       "3                                          Joker  (2019)   8.6         59   \n",
       "4                                     Knives Out  (2019)   8.1         82   \n",
       "\n",
       "    votes  lengths ratings                                  genres  \\\n",
       "0   64668  119 min       R                  Drama, War               \n",
       "1  233251  142 min   PG-13  Action, Adventure, Fantasy               \n",
       "2  341435  161 min       R               Comedy, Drama               \n",
       "3  618468  122 min       R      Crime, Drama, Thriller               \n",
       "4  122999  131 min   PG-13        Comedy, Crime, Drama               \n",
       "\n",
       "         budget                           language                 country  \\\n",
       "0  $100,000,000    ['English', 'French', 'German']           ['UK', 'USA']   \n",
       "1  $200,000,000                        ['English']                 ['USA']   \n",
       "2   $90,000,000  ['English', 'Italian', 'Spanish']  ['USA', 'UK', 'China']   \n",
       "3   $55,000,000                        ['English']       ['Canada', 'USA']   \n",
       "4   $40,000,000             ['English', 'Spanish']                 ['USA']   \n",
       "\n",
       "  cumulative_worldwide_gross   \n",
       "0        $143,336,984          \n",
       "1      $1,028,754,801          \n",
       "2        $373,058,543          \n",
       "3      $1,069,147,201          \n",
       "4        $277,992,387          "
      ]
     },
     "execution_count": 19,
     "metadata": {},
     "output_type": "execute_result"
    }
   ],
   "source": [
    "movie_dataframes.head()"
   ]
  },
  {
   "cell_type": "code",
   "execution_count": 20,
   "metadata": {
    "ExecuteTime": {
     "end_time": "2020-06-02T15:46:17.486994Z",
     "start_time": "2020-06-02T15:46:17.471264Z"
    }
   },
   "outputs": [],
   "source": [
    "movie_dataframes=movie_dataframes.drop(columns='Unnamed: 0')\n",
    "movie_dataframes=movie_dataframes.drop(columns='Unnamed: 0.1')\n",
    "movie_dataframes=movie_dataframes.drop(columns='Unnamed: 0.1.1')"
   ]
  },
  {
   "cell_type": "code",
   "execution_count": 22,
   "metadata": {
    "ExecuteTime": {
     "end_time": "2020-06-02T15:46:24.655751Z",
     "start_time": "2020-06-02T15:46:24.642612Z"
    }
   },
   "outputs": [
    {
     "data": {
      "text/html": [
       "<div>\n",
       "<style scoped>\n",
       "    .dataframe tbody tr th:only-of-type {\n",
       "        vertical-align: middle;\n",
       "    }\n",
       "\n",
       "    .dataframe tbody tr th {\n",
       "        vertical-align: top;\n",
       "    }\n",
       "\n",
       "    .dataframe thead th {\n",
       "        text-align: right;\n",
       "    }\n",
       "</style>\n",
       "<table border=\"1\" class=\"dataframe\">\n",
       "  <thead>\n",
       "    <tr style=\"text-align: right;\">\n",
       "      <th></th>\n",
       "      <th>movie_id</th>\n",
       "      <th>movie</th>\n",
       "      <th>year</th>\n",
       "      <th>imdb</th>\n",
       "      <th>metascore</th>\n",
       "      <th>votes</th>\n",
       "      <th>lengths</th>\n",
       "      <th>ratings</th>\n",
       "      <th>genres</th>\n",
       "      <th>budget</th>\n",
       "      <th>language</th>\n",
       "      <th>country</th>\n",
       "      <th>cumulative_worldwide_gross</th>\n",
       "    </tr>\n",
       "  </thead>\n",
       "  <tbody>\n",
       "    <tr>\n",
       "      <th>0</th>\n",
       "      <td>8579674</td>\n",
       "      <td>1917</td>\n",
       "      <td>(2019)</td>\n",
       "      <td>8.6</td>\n",
       "      <td>79</td>\n",
       "      <td>64668</td>\n",
       "      <td>119 min</td>\n",
       "      <td>R</td>\n",
       "      <td>Drama, War</td>\n",
       "      <td>$100,000,000</td>\n",
       "      <td>['English', 'French', 'German']</td>\n",
       "      <td>['UK', 'USA']</td>\n",
       "      <td>$143,336,984</td>\n",
       "    </tr>\n",
       "    <tr>\n",
       "      <th>1</th>\n",
       "      <td>2527338</td>\n",
       "      <td>Star Wars: Episode IX - The Rise of Skywalker</td>\n",
       "      <td>(2019)</td>\n",
       "      <td>6.9</td>\n",
       "      <td>54</td>\n",
       "      <td>233251</td>\n",
       "      <td>142 min</td>\n",
       "      <td>PG-13</td>\n",
       "      <td>Action, Adventure, Fantasy</td>\n",
       "      <td>$200,000,000</td>\n",
       "      <td>['English']</td>\n",
       "      <td>['USA']</td>\n",
       "      <td>$1,028,754,801</td>\n",
       "    </tr>\n",
       "    <tr>\n",
       "      <th>2</th>\n",
       "      <td>7131622</td>\n",
       "      <td>Once Upon a Time... in Hollywood</td>\n",
       "      <td>(2019)</td>\n",
       "      <td>7.8</td>\n",
       "      <td>83</td>\n",
       "      <td>341435</td>\n",
       "      <td>161 min</td>\n",
       "      <td>R</td>\n",
       "      <td>Comedy, Drama</td>\n",
       "      <td>$90,000,000</td>\n",
       "      <td>['English', 'Italian', 'Spanish']</td>\n",
       "      <td>['USA', 'UK', 'China']</td>\n",
       "      <td>$373,058,543</td>\n",
       "    </tr>\n",
       "    <tr>\n",
       "      <th>3</th>\n",
       "      <td>7286456</td>\n",
       "      <td>Joker</td>\n",
       "      <td>(2019)</td>\n",
       "      <td>8.6</td>\n",
       "      <td>59</td>\n",
       "      <td>618468</td>\n",
       "      <td>122 min</td>\n",
       "      <td>R</td>\n",
       "      <td>Crime, Drama, Thriller</td>\n",
       "      <td>$55,000,000</td>\n",
       "      <td>['English']</td>\n",
       "      <td>['Canada', 'USA']</td>\n",
       "      <td>$1,069,147,201</td>\n",
       "    </tr>\n",
       "    <tr>\n",
       "      <th>4</th>\n",
       "      <td>8946378</td>\n",
       "      <td>Knives Out</td>\n",
       "      <td>(2019)</td>\n",
       "      <td>8.1</td>\n",
       "      <td>82</td>\n",
       "      <td>122999</td>\n",
       "      <td>131 min</td>\n",
       "      <td>PG-13</td>\n",
       "      <td>Comedy, Crime, Drama</td>\n",
       "      <td>$40,000,000</td>\n",
       "      <td>['English', 'Spanish']</td>\n",
       "      <td>['USA']</td>\n",
       "      <td>$277,992,387</td>\n",
       "    </tr>\n",
       "  </tbody>\n",
       "</table>\n",
       "</div>"
      ],
      "text/plain": [
       "   movie_id                                          movie    year  imdb  \\\n",
       "0   8579674                                           1917  (2019)   8.6   \n",
       "1   2527338  Star Wars: Episode IX - The Rise of Skywalker  (2019)   6.9   \n",
       "2   7131622               Once Upon a Time... in Hollywood  (2019)   7.8   \n",
       "3   7286456                                          Joker  (2019)   8.6   \n",
       "4   8946378                                     Knives Out  (2019)   8.1   \n",
       "\n",
       "   metascore   votes  lengths ratings                                  genres  \\\n",
       "0         79   64668  119 min       R                  Drama, War               \n",
       "1         54  233251  142 min   PG-13  Action, Adventure, Fantasy               \n",
       "2         83  341435  161 min       R               Comedy, Drama               \n",
       "3         59  618468  122 min       R      Crime, Drama, Thriller               \n",
       "4         82  122999  131 min   PG-13        Comedy, Crime, Drama               \n",
       "\n",
       "         budget                           language                 country  \\\n",
       "0  $100,000,000    ['English', 'French', 'German']           ['UK', 'USA']   \n",
       "1  $200,000,000                        ['English']                 ['USA']   \n",
       "2   $90,000,000  ['English', 'Italian', 'Spanish']  ['USA', 'UK', 'China']   \n",
       "3   $55,000,000                        ['English']       ['Canada', 'USA']   \n",
       "4   $40,000,000             ['English', 'Spanish']                 ['USA']   \n",
       "\n",
       "  cumulative_worldwide_gross   \n",
       "0        $143,336,984          \n",
       "1      $1,028,754,801          \n",
       "2        $373,058,543          \n",
       "3      $1,069,147,201          \n",
       "4        $277,992,387          "
      ]
     },
     "execution_count": 22,
     "metadata": {},
     "output_type": "execute_result"
    }
   ],
   "source": [
    "movie_dataframes.head()"
   ]
  },
  {
   "cell_type": "code",
   "execution_count": 41,
   "metadata": {
    "ExecuteTime": {
     "end_time": "2020-01-22T18:37:27.741205Z",
     "start_time": "2020-01-22T18:37:27.708919Z"
    }
   },
   "outputs": [],
   "source": [
    "movie_dataframes['year']=movie_dataframes.year.str[-5:-1].astype('int64')"
   ]
  },
  {
   "cell_type": "code",
   "execution_count": 45,
   "metadata": {
    "ExecuteTime": {
     "end_time": "2020-01-22T18:39:42.808967Z",
     "start_time": "2020-01-22T18:39:42.778365Z"
    }
   },
   "outputs": [],
   "source": [
    "movie_dataframes['lengths']=movie_dataframes.lengths.str[:-4].astype('int64')"
   ]
  },
  {
   "cell_type": "code",
   "execution_count": 90,
   "metadata": {
    "ExecuteTime": {
     "end_time": "2020-01-22T01:00:56.131997Z",
     "start_time": "2020-01-22T01:00:56.120729Z"
    }
   },
   "outputs": [
    {
     "data": {
      "text/plain": [
       "Unnamed: 0                       int64\n",
       "Unnamed: 0.1                     int64\n",
       "movie_id                         int64\n",
       "movie                           object\n",
       "year                             int64\n",
       "imdb                           float64\n",
       "metascore                        int64\n",
       "votes                            int64\n",
       "lengths                          int64\n",
       "ratings                         object\n",
       "genres                          object\n",
       "budget                          object\n",
       "language                        object\n",
       "country                         object\n",
       "cumulative_worldwide_gross      object\n",
       "new_imdb                       float64\n",
       "dtype: object"
      ]
     },
     "execution_count": 90,
     "metadata": {},
     "output_type": "execute_result"
    }
   ],
   "source": [
    "movie_dataframes.dtypes"
   ]
  },
  {
   "cell_type": "markdown",
   "metadata": {},
   "source": [
    "__Removing Dollar And Commas From The Budget:__"
   ]
  },
  {
   "cell_type": "code",
   "execution_count": 47,
   "metadata": {
    "ExecuteTime": {
     "end_time": "2020-01-22T18:40:24.305190Z",
     "start_time": "2020-01-22T18:40:24.264765Z"
    }
   },
   "outputs": [],
   "source": [
    "movie_dataframes['budget'] = movie_dataframes['budget'].str.replace(',', '')\n",
    "movie_dataframes['budget'] = movie_dataframes['budget'].str.replace('$', '')"
   ]
  },
  {
   "cell_type": "markdown",
   "metadata": {},
   "source": [
    "__Removing EUR From The Budget (If Any):__"
   ]
  },
  {
   "cell_type": "code",
   "execution_count": 49,
   "metadata": {
    "ExecuteTime": {
     "end_time": "2020-01-22T18:41:10.112877Z",
     "start_time": "2020-01-22T18:41:10.050661Z"
    }
   },
   "outputs": [
    {
     "data": {
      "text/html": [
       "<div>\n",
       "<style scoped>\n",
       "    .dataframe tbody tr th:only-of-type {\n",
       "        vertical-align: middle;\n",
       "    }\n",
       "\n",
       "    .dataframe tbody tr th {\n",
       "        vertical-align: top;\n",
       "    }\n",
       "\n",
       "    .dataframe thead th {\n",
       "        text-align: right;\n",
       "    }\n",
       "</style>\n",
       "<table border=\"1\" class=\"dataframe\">\n",
       "  <thead>\n",
       "    <tr style=\"text-align: right;\">\n",
       "      <th></th>\n",
       "      <th>movie_id</th>\n",
       "      <th>movie</th>\n",
       "      <th>year</th>\n",
       "      <th>imdb</th>\n",
       "      <th>metascore</th>\n",
       "      <th>votes</th>\n",
       "      <th>lengths</th>\n",
       "      <th>ratings</th>\n",
       "      <th>genres</th>\n",
       "      <th>budget</th>\n",
       "      <th>language</th>\n",
       "      <th>country</th>\n",
       "      <th>cumulative_worldwide_gross</th>\n",
       "    </tr>\n",
       "  </thead>\n",
       "  <tbody>\n",
       "    <tr>\n",
       "      <td>0</td>\n",
       "      <td>8579674</td>\n",
       "      <td>1917</td>\n",
       "      <td>2019</td>\n",
       "      <td>8.6</td>\n",
       "      <td>79</td>\n",
       "      <td>64668</td>\n",
       "      <td>119</td>\n",
       "      <td>R</td>\n",
       "      <td>Drama, War</td>\n",
       "      <td>100000000</td>\n",
       "      <td>['English', 'French', 'German']</td>\n",
       "      <td>['UK', 'USA']</td>\n",
       "      <td>$143,336,984</td>\n",
       "    </tr>\n",
       "    <tr>\n",
       "      <td>1</td>\n",
       "      <td>2527338</td>\n",
       "      <td>Star Wars: Episode IX - The Rise of Skywalker</td>\n",
       "      <td>2019</td>\n",
       "      <td>6.9</td>\n",
       "      <td>54</td>\n",
       "      <td>233251</td>\n",
       "      <td>142</td>\n",
       "      <td>PG-13</td>\n",
       "      <td>Action, Adventure, Fantasy</td>\n",
       "      <td>200000000</td>\n",
       "      <td>['English']</td>\n",
       "      <td>['USA']</td>\n",
       "      <td>$1,028,754,801</td>\n",
       "    </tr>\n",
       "    <tr>\n",
       "      <td>2</td>\n",
       "      <td>7131622</td>\n",
       "      <td>Once Upon a Time... in Hollywood</td>\n",
       "      <td>2019</td>\n",
       "      <td>7.8</td>\n",
       "      <td>83</td>\n",
       "      <td>341435</td>\n",
       "      <td>161</td>\n",
       "      <td>R</td>\n",
       "      <td>Comedy, Drama</td>\n",
       "      <td>90000000</td>\n",
       "      <td>['English', 'Italian', 'Spanish']</td>\n",
       "      <td>['USA', 'UK', 'China']</td>\n",
       "      <td>$373,058,543</td>\n",
       "    </tr>\n",
       "    <tr>\n",
       "      <td>3</td>\n",
       "      <td>7286456</td>\n",
       "      <td>Joker</td>\n",
       "      <td>2019</td>\n",
       "      <td>8.6</td>\n",
       "      <td>59</td>\n",
       "      <td>618468</td>\n",
       "      <td>122</td>\n",
       "      <td>R</td>\n",
       "      <td>Crime, Drama, Thriller</td>\n",
       "      <td>55000000</td>\n",
       "      <td>['English']</td>\n",
       "      <td>['Canada', 'USA']</td>\n",
       "      <td>$1,069,147,201</td>\n",
       "    </tr>\n",
       "    <tr>\n",
       "      <td>4</td>\n",
       "      <td>8946378</td>\n",
       "      <td>Knives Out</td>\n",
       "      <td>2019</td>\n",
       "      <td>8.1</td>\n",
       "      <td>82</td>\n",
       "      <td>122999</td>\n",
       "      <td>131</td>\n",
       "      <td>PG-13</td>\n",
       "      <td>Comedy, Crime, Drama</td>\n",
       "      <td>40000000</td>\n",
       "      <td>['English', 'Spanish']</td>\n",
       "      <td>['USA']</td>\n",
       "      <td>$277,992,387</td>\n",
       "    </tr>\n",
       "    <tr>\n",
       "      <td>...</td>\n",
       "      <td>...</td>\n",
       "      <td>...</td>\n",
       "      <td>...</td>\n",
       "      <td>...</td>\n",
       "      <td>...</td>\n",
       "      <td>...</td>\n",
       "      <td>...</td>\n",
       "      <td>...</td>\n",
       "      <td>...</td>\n",
       "      <td>...</td>\n",
       "      <td>...</td>\n",
       "      <td>...</td>\n",
       "      <td>...</td>\n",
       "    </tr>\n",
       "    <tr>\n",
       "      <td>39995</td>\n",
       "      <td>947798</td>\n",
       "      <td>Black Swan</td>\n",
       "      <td>2010</td>\n",
       "      <td>8.0</td>\n",
       "      <td>79</td>\n",
       "      <td>667004</td>\n",
       "      <td>108</td>\n",
       "      <td>R</td>\n",
       "      <td>Drama, Thriller</td>\n",
       "      <td>NaN</td>\n",
       "      <td>NaN</td>\n",
       "      <td>NaN</td>\n",
       "      <td>NaN</td>\n",
       "    </tr>\n",
       "    <tr>\n",
       "      <td>39996</td>\n",
       "      <td>1099212</td>\n",
       "      <td>Twilight</td>\n",
       "      <td>2008</td>\n",
       "      <td>5.2</td>\n",
       "      <td>56</td>\n",
       "      <td>403771</td>\n",
       "      <td>122</td>\n",
       "      <td>PG-13</td>\n",
       "      <td>Drama, Fantasy, Romance</td>\n",
       "      <td>37000000</td>\n",
       "      <td>['English']</td>\n",
       "      <td>['USA']</td>\n",
       "      <td>$393,853,583</td>\n",
       "    </tr>\n",
       "    <tr>\n",
       "      <td>39997</td>\n",
       "      <td>5792656</td>\n",
       "      <td>Running with the Devil</td>\n",
       "      <td>2019</td>\n",
       "      <td>5.4</td>\n",
       "      <td>42</td>\n",
       "      <td>3242</td>\n",
       "      <td>100</td>\n",
       "      <td>R</td>\n",
       "      <td>Crime, Drama, Thriller</td>\n",
       "      <td>NaN</td>\n",
       "      <td>['English', 'Spanish']</td>\n",
       "      <td>['Colombia', 'USA']</td>\n",
       "      <td>$111,218</td>\n",
       "    </tr>\n",
       "    <tr>\n",
       "      <td>39998</td>\n",
       "      <td>5177088</td>\n",
       "      <td>The Girl in the Spider's Web</td>\n",
       "      <td>2018</td>\n",
       "      <td>6.1</td>\n",
       "      <td>43</td>\n",
       "      <td>35174</td>\n",
       "      <td>115</td>\n",
       "      <td>R</td>\n",
       "      <td>Action, Crime, Drama</td>\n",
       "      <td>43000000</td>\n",
       "      <td>['English']</td>\n",
       "      <td>['Germany', 'Sweden', 'USA']</td>\n",
       "      <td>$35,164,920</td>\n",
       "    </tr>\n",
       "    <tr>\n",
       "      <td>39999</td>\n",
       "      <td>2948356</td>\n",
       "      <td>Zootopia</td>\n",
       "      <td>2016</td>\n",
       "      <td>8.0</td>\n",
       "      <td>78</td>\n",
       "      <td>401892</td>\n",
       "      <td>108</td>\n",
       "      <td>PG</td>\n",
       "      <td>Animation, Adventure, Comedy</td>\n",
       "      <td>150000000</td>\n",
       "      <td>['English']</td>\n",
       "      <td>['USA']</td>\n",
       "      <td>$1,023,784,195</td>\n",
       "    </tr>\n",
       "  </tbody>\n",
       "</table>\n",
       "<p>40000 rows × 13 columns</p>\n",
       "</div>"
      ],
      "text/plain": [
       "       movie_id                                          movie  year  imdb  \\\n",
       "0       8579674                                           1917  2019   8.6   \n",
       "1       2527338  Star Wars: Episode IX - The Rise of Skywalker  2019   6.9   \n",
       "2       7131622               Once Upon a Time... in Hollywood  2019   7.8   \n",
       "3       7286456                                          Joker  2019   8.6   \n",
       "4       8946378                                     Knives Out  2019   8.1   \n",
       "...         ...                                            ...   ...   ...   \n",
       "39995    947798                                     Black Swan  2010   8.0   \n",
       "39996   1099212                                       Twilight  2008   5.2   \n",
       "39997   5792656                         Running with the Devil  2019   5.4   \n",
       "39998   5177088                   The Girl in the Spider's Web  2018   6.1   \n",
       "39999   2948356                                       Zootopia  2016   8.0   \n",
       "\n",
       "       metascore   votes  lengths ratings  \\\n",
       "0             79   64668      119       R   \n",
       "1             54  233251      142   PG-13   \n",
       "2             83  341435      161       R   \n",
       "3             59  618468      122       R   \n",
       "4             82  122999      131   PG-13   \n",
       "...          ...     ...      ...     ...   \n",
       "39995         79  667004      108       R   \n",
       "39996         56  403771      122   PG-13   \n",
       "39997         42    3242      100       R   \n",
       "39998         43   35174      115       R   \n",
       "39999         78  401892      108      PG   \n",
       "\n",
       "                                         genres     budget  \\\n",
       "0                        Drama, War              100000000   \n",
       "1        Action, Adventure, Fantasy              200000000   \n",
       "2                     Comedy, Drama               90000000   \n",
       "3            Crime, Drama, Thriller               55000000   \n",
       "4              Comedy, Crime, Drama               40000000   \n",
       "...                                         ...        ...   \n",
       "39995               Drama, Thriller                    NaN   \n",
       "39996       Drama, Fantasy, Romance               37000000   \n",
       "39997        Crime, Drama, Thriller                    NaN   \n",
       "39998          Action, Crime, Drama               43000000   \n",
       "39999  Animation, Adventure, Comedy              150000000   \n",
       "\n",
       "                                language                       country  \\\n",
       "0        ['English', 'French', 'German']                 ['UK', 'USA']   \n",
       "1                            ['English']                       ['USA']   \n",
       "2      ['English', 'Italian', 'Spanish']        ['USA', 'UK', 'China']   \n",
       "3                            ['English']             ['Canada', 'USA']   \n",
       "4                 ['English', 'Spanish']                       ['USA']   \n",
       "...                                  ...                           ...   \n",
       "39995                                NaN                           NaN   \n",
       "39996                        ['English']                       ['USA']   \n",
       "39997             ['English', 'Spanish']           ['Colombia', 'USA']   \n",
       "39998                        ['English']  ['Germany', 'Sweden', 'USA']   \n",
       "39999                        ['English']                       ['USA']   \n",
       "\n",
       "      cumulative_worldwide_gross   \n",
       "0            $143,336,984          \n",
       "1          $1,028,754,801          \n",
       "2            $373,058,543          \n",
       "3          $1,069,147,201          \n",
       "4            $277,992,387          \n",
       "...                           ...  \n",
       "39995                         NaN  \n",
       "39996        $393,853,583          \n",
       "39997            $111,218          \n",
       "39998         $35,164,920          \n",
       "39999      $1,023,784,195          \n",
       "\n",
       "[40000 rows x 13 columns]"
      ]
     },
     "execution_count": 49,
     "metadata": {},
     "output_type": "execute_result"
    }
   ],
   "source": [
    "movie_dataframes['budget'] = movie_dataframes['budget'].str.replace('EUR', '')\n",
    "\n",
    "movie_dataframes"
   ]
  },
  {
   "cell_type": "code",
   "execution_count": 50,
   "metadata": {
    "ExecuteTime": {
     "end_time": "2020-01-22T18:41:28.592393Z",
     "start_time": "2020-01-22T18:41:28.570430Z"
    }
   },
   "outputs": [],
   "source": [
    "movie_dataframes['cumulative_worldwide_gross'] = movie_dataframes['cumulative_worldwide_gross '].str.replace(',', '')"
   ]
  },
  {
   "cell_type": "code",
   "execution_count": 51,
   "metadata": {
    "ExecuteTime": {
     "end_time": "2020-01-22T18:43:34.107823Z",
     "start_time": "2020-01-22T18:43:34.048752Z"
    }
   },
   "outputs": [],
   "source": [
    "movie_dataframes['cumulative_worldwide_gross'] = movie_dataframes['cumulative_worldwide_gross'].str.replace('$', '')\n",
    "movie_dataframes['cumulative_worldwide_gross'] = movie_dataframes['cumulative_worldwide_gross'].str.replace(',', '')\n",
    "movie_dataframes['cumulative_worldwide_gross'] = movie_dataframes['cumulative_worldwide_gross'].str.replace('EUR', '')"
   ]
  },
  {
   "cell_type": "code",
   "execution_count": 53,
   "metadata": {
    "ExecuteTime": {
     "end_time": "2020-01-22T18:44:12.595234Z",
     "start_time": "2020-01-22T18:44:12.565300Z"
    }
   },
   "outputs": [],
   "source": [
    "movie_dataframes=movie_dataframes.drop(columns='cumulative_worldwide_gross ')"
   ]
  },
  {
   "cell_type": "code",
   "execution_count": 54,
   "metadata": {
    "ExecuteTime": {
     "end_time": "2020-01-22T18:44:29.815593Z",
     "start_time": "2020-01-22T18:44:29.789548Z"
    }
   },
   "outputs": [
    {
     "data": {
      "text/html": [
       "<div>\n",
       "<style scoped>\n",
       "    .dataframe tbody tr th:only-of-type {\n",
       "        vertical-align: middle;\n",
       "    }\n",
       "\n",
       "    .dataframe tbody tr th {\n",
       "        vertical-align: top;\n",
       "    }\n",
       "\n",
       "    .dataframe thead th {\n",
       "        text-align: right;\n",
       "    }\n",
       "</style>\n",
       "<table border=\"1\" class=\"dataframe\">\n",
       "  <thead>\n",
       "    <tr style=\"text-align: right;\">\n",
       "      <th></th>\n",
       "      <th>movie_id</th>\n",
       "      <th>movie</th>\n",
       "      <th>year</th>\n",
       "      <th>imdb</th>\n",
       "      <th>metascore</th>\n",
       "      <th>votes</th>\n",
       "      <th>lengths</th>\n",
       "      <th>ratings</th>\n",
       "      <th>genres</th>\n",
       "      <th>budget</th>\n",
       "      <th>language</th>\n",
       "      <th>country</th>\n",
       "      <th>cumulative_worldwide_gross</th>\n",
       "    </tr>\n",
       "  </thead>\n",
       "  <tbody>\n",
       "    <tr>\n",
       "      <td>0</td>\n",
       "      <td>8579674</td>\n",
       "      <td>1917</td>\n",
       "      <td>2019</td>\n",
       "      <td>8.6</td>\n",
       "      <td>79</td>\n",
       "      <td>64668</td>\n",
       "      <td>119</td>\n",
       "      <td>R</td>\n",
       "      <td>Drama, War</td>\n",
       "      <td>100000000</td>\n",
       "      <td>['English', 'French', 'German']</td>\n",
       "      <td>['UK', 'USA']</td>\n",
       "      <td>143336984</td>\n",
       "    </tr>\n",
       "    <tr>\n",
       "      <td>1</td>\n",
       "      <td>2527338</td>\n",
       "      <td>Star Wars: Episode IX - The Rise of Skywalker</td>\n",
       "      <td>2019</td>\n",
       "      <td>6.9</td>\n",
       "      <td>54</td>\n",
       "      <td>233251</td>\n",
       "      <td>142</td>\n",
       "      <td>PG-13</td>\n",
       "      <td>Action, Adventure, Fantasy</td>\n",
       "      <td>200000000</td>\n",
       "      <td>['English']</td>\n",
       "      <td>['USA']</td>\n",
       "      <td>1028754801</td>\n",
       "    </tr>\n",
       "    <tr>\n",
       "      <td>2</td>\n",
       "      <td>7131622</td>\n",
       "      <td>Once Upon a Time... in Hollywood</td>\n",
       "      <td>2019</td>\n",
       "      <td>7.8</td>\n",
       "      <td>83</td>\n",
       "      <td>341435</td>\n",
       "      <td>161</td>\n",
       "      <td>R</td>\n",
       "      <td>Comedy, Drama</td>\n",
       "      <td>90000000</td>\n",
       "      <td>['English', 'Italian', 'Spanish']</td>\n",
       "      <td>['USA', 'UK', 'China']</td>\n",
       "      <td>373058543</td>\n",
       "    </tr>\n",
       "    <tr>\n",
       "      <td>3</td>\n",
       "      <td>7286456</td>\n",
       "      <td>Joker</td>\n",
       "      <td>2019</td>\n",
       "      <td>8.6</td>\n",
       "      <td>59</td>\n",
       "      <td>618468</td>\n",
       "      <td>122</td>\n",
       "      <td>R</td>\n",
       "      <td>Crime, Drama, Thriller</td>\n",
       "      <td>55000000</td>\n",
       "      <td>['English']</td>\n",
       "      <td>['Canada', 'USA']</td>\n",
       "      <td>1069147201</td>\n",
       "    </tr>\n",
       "    <tr>\n",
       "      <td>4</td>\n",
       "      <td>8946378</td>\n",
       "      <td>Knives Out</td>\n",
       "      <td>2019</td>\n",
       "      <td>8.1</td>\n",
       "      <td>82</td>\n",
       "      <td>122999</td>\n",
       "      <td>131</td>\n",
       "      <td>PG-13</td>\n",
       "      <td>Comedy, Crime, Drama</td>\n",
       "      <td>40000000</td>\n",
       "      <td>['English', 'Spanish']</td>\n",
       "      <td>['USA']</td>\n",
       "      <td>277992387</td>\n",
       "    </tr>\n",
       "    <tr>\n",
       "      <td>...</td>\n",
       "      <td>...</td>\n",
       "      <td>...</td>\n",
       "      <td>...</td>\n",
       "      <td>...</td>\n",
       "      <td>...</td>\n",
       "      <td>...</td>\n",
       "      <td>...</td>\n",
       "      <td>...</td>\n",
       "      <td>...</td>\n",
       "      <td>...</td>\n",
       "      <td>...</td>\n",
       "      <td>...</td>\n",
       "      <td>...</td>\n",
       "    </tr>\n",
       "    <tr>\n",
       "      <td>39995</td>\n",
       "      <td>947798</td>\n",
       "      <td>Black Swan</td>\n",
       "      <td>2010</td>\n",
       "      <td>8.0</td>\n",
       "      <td>79</td>\n",
       "      <td>667004</td>\n",
       "      <td>108</td>\n",
       "      <td>R</td>\n",
       "      <td>Drama, Thriller</td>\n",
       "      <td>NaN</td>\n",
       "      <td>NaN</td>\n",
       "      <td>NaN</td>\n",
       "      <td>NaN</td>\n",
       "    </tr>\n",
       "    <tr>\n",
       "      <td>39996</td>\n",
       "      <td>1099212</td>\n",
       "      <td>Twilight</td>\n",
       "      <td>2008</td>\n",
       "      <td>5.2</td>\n",
       "      <td>56</td>\n",
       "      <td>403771</td>\n",
       "      <td>122</td>\n",
       "      <td>PG-13</td>\n",
       "      <td>Drama, Fantasy, Romance</td>\n",
       "      <td>37000000</td>\n",
       "      <td>['English']</td>\n",
       "      <td>['USA']</td>\n",
       "      <td>393853583</td>\n",
       "    </tr>\n",
       "    <tr>\n",
       "      <td>39997</td>\n",
       "      <td>5792656</td>\n",
       "      <td>Running with the Devil</td>\n",
       "      <td>2019</td>\n",
       "      <td>5.4</td>\n",
       "      <td>42</td>\n",
       "      <td>3242</td>\n",
       "      <td>100</td>\n",
       "      <td>R</td>\n",
       "      <td>Crime, Drama, Thriller</td>\n",
       "      <td>NaN</td>\n",
       "      <td>['English', 'Spanish']</td>\n",
       "      <td>['Colombia', 'USA']</td>\n",
       "      <td>111218</td>\n",
       "    </tr>\n",
       "    <tr>\n",
       "      <td>39998</td>\n",
       "      <td>5177088</td>\n",
       "      <td>The Girl in the Spider's Web</td>\n",
       "      <td>2018</td>\n",
       "      <td>6.1</td>\n",
       "      <td>43</td>\n",
       "      <td>35174</td>\n",
       "      <td>115</td>\n",
       "      <td>R</td>\n",
       "      <td>Action, Crime, Drama</td>\n",
       "      <td>43000000</td>\n",
       "      <td>['English']</td>\n",
       "      <td>['Germany', 'Sweden', 'USA']</td>\n",
       "      <td>35164920</td>\n",
       "    </tr>\n",
       "    <tr>\n",
       "      <td>39999</td>\n",
       "      <td>2948356</td>\n",
       "      <td>Zootopia</td>\n",
       "      <td>2016</td>\n",
       "      <td>8.0</td>\n",
       "      <td>78</td>\n",
       "      <td>401892</td>\n",
       "      <td>108</td>\n",
       "      <td>PG</td>\n",
       "      <td>Animation, Adventure, Comedy</td>\n",
       "      <td>150000000</td>\n",
       "      <td>['English']</td>\n",
       "      <td>['USA']</td>\n",
       "      <td>1023784195</td>\n",
       "    </tr>\n",
       "  </tbody>\n",
       "</table>\n",
       "<p>40000 rows × 13 columns</p>\n",
       "</div>"
      ],
      "text/plain": [
       "       movie_id                                          movie  year  imdb  \\\n",
       "0       8579674                                           1917  2019   8.6   \n",
       "1       2527338  Star Wars: Episode IX - The Rise of Skywalker  2019   6.9   \n",
       "2       7131622               Once Upon a Time... in Hollywood  2019   7.8   \n",
       "3       7286456                                          Joker  2019   8.6   \n",
       "4       8946378                                     Knives Out  2019   8.1   \n",
       "...         ...                                            ...   ...   ...   \n",
       "39995    947798                                     Black Swan  2010   8.0   \n",
       "39996   1099212                                       Twilight  2008   5.2   \n",
       "39997   5792656                         Running with the Devil  2019   5.4   \n",
       "39998   5177088                   The Girl in the Spider's Web  2018   6.1   \n",
       "39999   2948356                                       Zootopia  2016   8.0   \n",
       "\n",
       "       metascore   votes  lengths ratings  \\\n",
       "0             79   64668      119       R   \n",
       "1             54  233251      142   PG-13   \n",
       "2             83  341435      161       R   \n",
       "3             59  618468      122       R   \n",
       "4             82  122999      131   PG-13   \n",
       "...          ...     ...      ...     ...   \n",
       "39995         79  667004      108       R   \n",
       "39996         56  403771      122   PG-13   \n",
       "39997         42    3242      100       R   \n",
       "39998         43   35174      115       R   \n",
       "39999         78  401892      108      PG   \n",
       "\n",
       "                                         genres     budget  \\\n",
       "0                        Drama, War              100000000   \n",
       "1        Action, Adventure, Fantasy              200000000   \n",
       "2                     Comedy, Drama               90000000   \n",
       "3            Crime, Drama, Thriller               55000000   \n",
       "4              Comedy, Crime, Drama               40000000   \n",
       "...                                         ...        ...   \n",
       "39995               Drama, Thriller                    NaN   \n",
       "39996       Drama, Fantasy, Romance               37000000   \n",
       "39997        Crime, Drama, Thriller                    NaN   \n",
       "39998          Action, Crime, Drama               43000000   \n",
       "39999  Animation, Adventure, Comedy              150000000   \n",
       "\n",
       "                                language                       country  \\\n",
       "0        ['English', 'French', 'German']                 ['UK', 'USA']   \n",
       "1                            ['English']                       ['USA']   \n",
       "2      ['English', 'Italian', 'Spanish']        ['USA', 'UK', 'China']   \n",
       "3                            ['English']             ['Canada', 'USA']   \n",
       "4                 ['English', 'Spanish']                       ['USA']   \n",
       "...                                  ...                           ...   \n",
       "39995                                NaN                           NaN   \n",
       "39996                        ['English']                       ['USA']   \n",
       "39997             ['English', 'Spanish']           ['Colombia', 'USA']   \n",
       "39998                        ['English']  ['Germany', 'Sweden', 'USA']   \n",
       "39999                        ['English']                       ['USA']   \n",
       "\n",
       "      cumulative_worldwide_gross  \n",
       "0              143336984          \n",
       "1             1028754801          \n",
       "2              373058543          \n",
       "3             1069147201          \n",
       "4              277992387          \n",
       "...                          ...  \n",
       "39995                        NaN  \n",
       "39996          393853583          \n",
       "39997             111218          \n",
       "39998           35164920          \n",
       "39999         1023784195          \n",
       "\n",
       "[40000 rows x 13 columns]"
      ]
     },
     "execution_count": 54,
     "metadata": {},
     "output_type": "execute_result"
    }
   ],
   "source": [
    "movie_dataframes"
   ]
  },
  {
   "cell_type": "markdown",
   "metadata": {},
   "source": [
    "__Checking For Any Null Values:__"
   ]
  },
  {
   "cell_type": "code",
   "execution_count": 55,
   "metadata": {
    "ExecuteTime": {
     "end_time": "2020-01-22T18:45:06.341689Z",
     "start_time": "2020-01-22T18:45:06.321640Z"
    }
   },
   "outputs": [
    {
     "data": {
      "text/plain": [
       "movie_id                          0\n",
       "movie                             0\n",
       "year                              0\n",
       "imdb                              0\n",
       "metascore                         0\n",
       "votes                             0\n",
       "lengths                           0\n",
       "ratings                           0\n",
       "genres                            0\n",
       "budget                        18430\n",
       "language                      13839\n",
       "country                       13839\n",
       "cumulative_worldwide_gross    15512\n",
       "dtype: int64"
      ]
     },
     "execution_count": 55,
     "metadata": {},
     "output_type": "execute_result"
    }
   ],
   "source": [
    "movie_dataframes.isnull().sum()"
   ]
  },
  {
   "cell_type": "code",
   "execution_count": 56,
   "metadata": {
    "ExecuteTime": {
     "end_time": "2020-01-22T18:45:26.251045Z",
     "start_time": "2020-01-22T18:45:26.226918Z"
    }
   },
   "outputs": [],
   "source": [
    "movie_dataframes=movie_dataframes.dropna()"
   ]
  },
  {
   "cell_type": "code",
   "execution_count": 57,
   "metadata": {
    "ExecuteTime": {
     "end_time": "2020-01-22T18:45:30.205855Z",
     "start_time": "2020-01-22T18:45:30.191282Z"
    }
   },
   "outputs": [
    {
     "data": {
      "text/plain": [
       "movie_id                      0\n",
       "movie                         0\n",
       "year                          0\n",
       "imdb                          0\n",
       "metascore                     0\n",
       "votes                         0\n",
       "lengths                       0\n",
       "ratings                       0\n",
       "genres                        0\n",
       "budget                        0\n",
       "language                      0\n",
       "country                       0\n",
       "cumulative_worldwide_gross    0\n",
       "dtype: int64"
      ]
     },
     "execution_count": 57,
     "metadata": {},
     "output_type": "execute_result"
    }
   ],
   "source": [
    "movie_dataframes.isnull().sum()"
   ]
  },
  {
   "cell_type": "code",
   "execution_count": 25,
   "metadata": {
    "ExecuteTime": {
     "end_time": "2020-06-02T16:59:24.018112Z",
     "start_time": "2020-06-02T16:59:24.015704Z"
    }
   },
   "outputs": [],
   "source": [
    "movie_dataframes['budget'] = movie_dataframes['budget'].astype(int)"
   ]
  },
  {
   "cell_type": "code",
   "execution_count": 26,
   "metadata": {
    "ExecuteTime": {
     "end_time": "2020-06-02T16:59:31.284077Z",
     "start_time": "2020-06-02T16:59:31.282022Z"
    }
   },
   "outputs": [],
   "source": [
    "movie_dataframes['cumulative_worldwide_gross'] = movie_dataframes['cumulative_worldwide_gross'].astype(int)"
   ]
  },
  {
   "cell_type": "code",
   "execution_count": 65,
   "metadata": {
    "ExecuteTime": {
     "end_time": "2020-01-22T18:53:15.107853Z",
     "start_time": "2020-01-22T18:53:15.101011Z"
    }
   },
   "outputs": [
    {
     "data": {
      "text/plain": [
       "movie_id                        int64\n",
       "movie                          object\n",
       "year                            int64\n",
       "imdb                          float64\n",
       "metascore                       int64\n",
       "votes                           int64\n",
       "lengths                         int64\n",
       "ratings                        object\n",
       "genres                         object\n",
       "budget                          int64\n",
       "language                       object\n",
       "country                        object\n",
       "cumulative_worldwide_gross      int64\n",
       "dtype: object"
      ]
     },
     "execution_count": 65,
     "metadata": {},
     "output_type": "execute_result"
    }
   ],
   "source": [
    "movie_dataframes.dtypes"
   ]
  },
  {
   "cell_type": "markdown",
   "metadata": {
    "ExecuteTime": {
     "end_time": "2020-06-02T16:38:23.011176Z",
     "start_time": "2020-06-02T16:38:23.004591Z"
    }
   },
   "source": [
    "__Saving Cleaner Dataset To CSV File:__"
   ]
  },
  {
   "cell_type": "code",
   "execution_count": 24,
   "metadata": {
    "ExecuteTime": {
     "end_time": "2020-06-02T16:38:57.402692Z",
     "start_time": "2020-06-02T16:38:57.400499Z"
    }
   },
   "outputs": [],
   "source": [
    "movie_dataframes.to_csv('../movie_dataframe_completemovies_clean.csv')"
   ]
  },
  {
   "cell_type": "markdown",
   "metadata": {},
   "source": [
    "__Reading Saved File:__"
   ]
  },
  {
   "cell_type": "code",
   "execution_count": 2,
   "metadata": {
    "ExecuteTime": {
     "end_time": "2020-01-22T19:20:07.223508Z",
     "start_time": "2020-01-22T19:20:07.167509Z"
    }
   },
   "outputs": [],
   "source": [
    "movie_dataframes=pd.read_csv('../movie_dataframe_completemovies_clean.csv')"
   ]
  },
  {
   "cell_type": "code",
   "execution_count": 3,
   "metadata": {
    "ExecuteTime": {
     "end_time": "2020-01-22T19:20:09.609586Z",
     "start_time": "2020-01-22T19:20:09.599696Z"
    }
   },
   "outputs": [
    {
     "data": {
      "text/plain": [
       "Unnamed: 0                      int64\n",
       "movie_id                        int64\n",
       "movie                          object\n",
       "year                            int64\n",
       "imdb                          float64\n",
       "metascore                       int64\n",
       "votes                           int64\n",
       "lengths                         int64\n",
       "ratings                        object\n",
       "genres                         object\n",
       "budget                          int64\n",
       "language                       object\n",
       "country                        object\n",
       "cumulative_worldwide_gross      int64\n",
       "dtype: object"
      ]
     },
     "execution_count": 3,
     "metadata": {},
     "output_type": "execute_result"
    }
   ],
   "source": [
    "movie_dataframes.dtypes"
   ]
  }
 ],
 "metadata": {
  "kernelspec": {
   "display_name": "Python 3",
   "language": "python",
   "name": "python3"
  },
  "language_info": {
   "codemirror_mode": {
    "name": "ipython",
    "version": 3
   },
   "file_extension": ".py",
   "mimetype": "text/x-python",
   "name": "python",
   "nbconvert_exporter": "python",
   "pygments_lexer": "ipython3",
   "version": "3.7.4"
  },
  "toc": {
   "base_numbering": 1,
   "nav_menu": {},
   "number_sections": true,
   "sideBar": true,
   "skip_h1_title": true,
   "title_cell": "Table of Contents",
   "title_sidebar": "Contents",
   "toc_cell": true,
   "toc_position": {},
   "toc_section_display": true,
   "toc_window_display": true
  }
 },
 "nbformat": 4,
 "nbformat_minor": 2
}
